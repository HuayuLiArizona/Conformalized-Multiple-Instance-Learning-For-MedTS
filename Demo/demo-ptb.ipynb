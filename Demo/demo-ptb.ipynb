{
 "cells": [
  {
   "cell_type": "code",
   "execution_count": 1,
   "id": "7bc2cce2-f46a-4a34-83cf-fa9151786b4e",
   "metadata": {},
   "outputs": [
    {
     "name": "stderr",
     "output_type": "stream",
     "text": [
      "/home/huayu/anaconda3/envs/LLM/lib/python3.12/site-packages/tqdm/auto.py:21: TqdmWarning: IProgress not found. Please update jupyter and ipywidgets. See https://ipywidgets.readthedocs.io/en/stable/user_install.html\n",
      "  from .autonotebook import tqdm as notebook_tqdm\n"
     ]
    }
   ],
   "source": [
    "import os\n",
    "from transformers import Qwen2VLForConditionalGeneration, AutoProcessor\n",
    "from qwen_vl_utils import process_vision_info\n",
    "from PIL import Image\n",
    "import torch"
   ]
  },
  {
   "cell_type": "markdown",
   "id": "2733b715-ab90-4978-ad38-285215271f0b",
   "metadata": {},
   "source": [
    "# Load Qwen2-VL-7B-Instruct model"
   ]
  },
  {
   "cell_type": "code",
   "execution_count": 2,
   "id": "48974b2d-5559-41d8-aa10-b8cd56d253fe",
   "metadata": {},
   "outputs": [
    {
     "name": "stderr",
     "output_type": "stream",
     "text": [
      "`Qwen2VLRotaryEmbedding` can now be fully parameterized by passing the model config through the `config` argument. All other arguments will be removed in v4.46\n",
      "Loading checkpoint shards: 100%|█████████████████████████████████████████████████████████████████████████████████████████████████████████████████████████████████████████████████████| 5/5 [00:11<00:00,  2.32s/it]\n"
     ]
    }
   ],
   "source": [
    "model = Qwen2VLForConditionalGeneration.from_pretrained(\n",
    "    \"Qwen/Qwen2-VL-7B-Instruct\", torch_dtype=\"auto\", device_map=\"auto\"\n",
    ")\n",
    "\n",
    "# Load the processor\n",
    "min_pixels = 1000000\n",
    "max_pixels = 1000000\n",
    "processor = AutoProcessor.from_pretrained(\n",
    "    \"Qwen/Qwen2-VL-7B-Instruct\", min_pixels=min_pixels, max_pixels=max_pixels\n",
    ")\n",
    "\n",
    "# Diagnosis codes and descriptions\n",
    "PTB_CODE = ['NORM', 'MI', 'STTC', 'CD', 'HYP']\n",
    "CONDITIONS = [\"Normal ECG\", \"Myocardial Infarction\", \"ST/T Change\", \"Conduction Disturbance\", \"Hypertrophy\"]\n"
   ]
  },
  {
   "cell_type": "markdown",
   "id": "d659e696-25b4-4539-84e4-67c63c5ff8fb",
   "metadata": {},
   "source": [
    "# Load images generated based on ConMIL interpretations and prediction sets"
   ]
  },
  {
   "cell_type": "code",
   "execution_count": 3,
   "id": "8edb8537-38de-403f-a0eb-df71120c69ca",
   "metadata": {},
   "outputs": [],
   "source": [
    "sample_path = 'PTB-XL'\n",
    "    \n",
    "# Load ground truth and prediction set\n",
    "gt_path = os.path.join(sample_path, \"ground_truth.txt\")\n",
    "with open(gt_path, \"r\") as f:\n",
    "    gt_text = f.read().strip()\n",
    "    gt = PTB_CODE.index(gt_text.split(\":\")[1].strip())\n",
    "\n",
    "# Load prediction set figures\n",
    "prediction_set = [fname.replace(\".png\", \"\") for fname in os.listdir(sample_path) if fname.endswith(\".png\") and fname != \"org.png\"]\n",
    "pset_indices = [PTB_CODE.index(code) for code in prediction_set]\n",
    "\n",
    "# Load images for predictions\n",
    "conmil_paths = [os.path.join(sample_path, f\"{PTB_CODE[idx]}.png\") for idx in pset_indices]\n",
    "images = [Image.open(path).convert(\"RGB\") for path in conmil_paths]"
   ]
  },
  {
   "cell_type": "markdown",
   "id": "d13d9791-020c-4142-a1ea-1d211a8b23d1",
   "metadata": {},
   "source": [
    "# Generate instructions"
   ]
  },
  {
   "cell_type": "code",
   "execution_count": 4,
   "id": "d5f41bbb-d516-4b7c-a99f-1449e9ca24dc",
   "metadata": {},
   "outputs": [],
   "source": [
    "# Create dynamic instruction\n",
    "diagnosis_options = \", \".join([CONDITIONS[idx] for idx in sorted(pset_indices)])\n",
    "instruction = (\n",
    "    f\"Given a 12-lead ECG and visual interpretations for the following possible diagnoses: {diagnosis_options}, \"\n",
    "    f\"determine the most likely diagnosis. Use the provided model interpretations as reference and \"\n",
    "    f\"base your decision solely on these visual features without additional analysis or introducing new criteria.\\n\\n\"\n",
    "    f\"Provide your answer in the following format:\\n\"\n",
    "    f\"Diagnosis: <Selected Diagnosis>\\n\"\n",
    "    f\"Reason: <Brief reason for the choice based on visual features>\"\n",
    ")\n",
    "\n",
    "# Prepare messages for the processor\n",
    "content = [{\"type\": f\"Model interpretation for diagnosis: {CONDITIONS[idx]}\", \"image\": img} for idx, img in zip(pset_indices, images)]\n",
    "content.append({\"type\": \"Instruction\", \"text\": instruction})\n",
    "messages = [{\"role\": \"user\", \"content\": content}]\n",
    "\n",
    "# Process vision info and prepare inputs\n",
    "text = processor.apply_chat_template(messages, tokenize=False, add_generation_prompt=True)\n",
    "image_inputs, video_inputs = process_vision_info(messages)\n",
    "inputs = processor(\n",
    "    text=[text],\n",
    "    images=[image_inputs],\n",
    "    videos=video_inputs,\n",
    "    padding=True,\n",
    "    return_tensors=\"pt\",\n",
    ")\n",
    "inputs = inputs.to(\"cuda\")  # Move inputs to GPU if using CUDA"
   ]
  },
  {
   "cell_type": "markdown",
   "id": "0e634d0f-d274-4e67-9ab7-e14851bb6550",
   "metadata": {},
   "source": [
    "# LLM inference"
   ]
  },
  {
   "cell_type": "code",
   "execution_count": 5,
   "id": "ac2c865d-d7b5-4d1c-924e-7e591bffdf5c",
   "metadata": {},
   "outputs": [],
   "source": [
    " # Perform inference\n",
    "generated_ids = model.generate(**inputs, max_new_tokens=512)\n",
    "generated_ids_trimmed = [\n",
    "    out_ids[len(in_ids):] for in_ids, out_ids in zip(inputs.input_ids, generated_ids)\n",
    "]\n",
    "output_text = processor.batch_decode(\n",
    "    generated_ids_trimmed, skip_special_tokens=True, clean_up_tokenization_spaces=True\n",
    ")\n",
    "\n",
    "# Parse LLM response\n",
    "response = output_text[0].strip()\n",
    "diagnosis = response.split(\"Diagnosis: \")[1].split(\"\\n\")[0].strip() if \"Diagnosis: \" in response else \"Unknown\""
   ]
  },
  {
   "cell_type": "markdown",
   "id": "8d4d4978-35c9-414f-bbdf-e547364e6f10",
   "metadata": {},
   "source": [
    "# Show LLM response"
   ]
  },
  {
   "cell_type": "code",
   "execution_count": 6,
   "id": "beead71d-baea-41cb-97d2-9c02a49445d2",
   "metadata": {},
   "outputs": [
    {
     "name": "stdout",
     "output_type": "stream",
     "text": [
      "Instruction: Given a 12-lead ECG and visual interpretations for the following possible diagnoses: Myocardial Infarction, Conduction Disturbance, determine the most likely diagnosis. Use the provided model interpretations as reference and base your decision solely on these visual features without additional analysis or introducing new criteria.\n",
      "\n",
      "Provide your answer in the following format:\n",
      "Diagnosis: <Selected Diagnosis>\n",
      "Reason: <Brief reason for the choice based on visual features>\n",
      "Generated Response: Diagnosis: Conduction Disturbance\n",
      "Reason: The ECG shows a regular rhythm with a consistent PR interval and QRS duration, which is indicative of a conduction disturbance rather than a myocardial infarction. The absence of ST segment elevation or depression, T wave inversion, or Q wave abnormalities further supports the diagnosis of conduction disturbance.\n",
      "Extracted Conclusion: Conduction Disturbance\n",
      "Ground Truth: Conduction Disturbance\n"
     ]
    }
   ],
   "source": [
    "print(\"Instruction:\", instruction)\n",
    "print(\"Generated Response:\", response)\n",
    "print(\"Extracted Conclusion:\", diagnosis)\n",
    "print(\"Ground Truth:\", CONDITIONS[gt])"
   ]
  },
  {
   "cell_type": "markdown",
   "id": "cba4c4d8-6056-4ebe-8864-100569804783",
   "metadata": {},
   "source": [
    "# Now we see how LLM works without ConMIL's support"
   ]
  },
  {
   "cell_type": "code",
   "execution_count": 7,
   "id": "b36efc2d-7d67-4642-a68c-4b23b37ac1a7",
   "metadata": {},
   "outputs": [],
   "source": [
    "# Load original image\n",
    "org_image_path = os.path.join(sample_path, \"org.png\")\n",
    "\n",
    "org_image = Image.open(org_image_path).convert(\"RGB\")\n",
    "\n",
    "# Create instruction\n",
    "instruction = (\n",
    "    f\"Given a 12-lead ECG, determine the most likely diagnosis among the following categories:\"\n",
    "    f\"Normal ECG, Myocardial Infarction, ST/T Change, Conduction Disturbance, or Hypertrophy.\"\n",
    "    f\"Base your decision solely on the visual features of the provided ECG without performing additional analysis or introducing new criteria.\\n\\n\"\n",
    "    f\"Provide your answer in the following format:\\n\"\n",
    "    f\"Diagnosis: <Selected Diagnosis>\\n\"\n",
    "    f\"Reason: <Brief reason for the choice based on visual features>\"\n",
    ")\n",
    "\n",
    "# Prepare messages for the processor\n",
    "messages = [\n",
    "    {\n",
    "        \"role\": \"user\",\n",
    "        \"content\": [\n",
    "            {\"type\": \"ECG Plot\", \"image\": org_image},\n",
    "            {\"type\": \"Instruction\", \"text\": instruction},\n",
    "        ],\n",
    "    }\n",
    "]\n",
    "\n",
    "# Process vision info and prepare inputs\n",
    "text = processor.apply_chat_template(messages, tokenize=False, add_generation_prompt=True)\n",
    "image_inputs, video_inputs = process_vision_info(messages)\n",
    "inputs = processor(\n",
    "    text=[text],\n",
    "    images=[image_inputs],\n",
    "    videos=video_inputs,\n",
    "    padding=True,\n",
    "    return_tensors=\"pt\",\n",
    ")\n",
    "inputs = inputs.to(\"cuda\")  # Move inputs to GPU if using CUDA"
   ]
  },
  {
   "cell_type": "markdown",
   "id": "ecb64ff8-5925-4dde-bb22-be89e018f62f",
   "metadata": {},
   "source": [
    "# Perform inference"
   ]
  },
  {
   "cell_type": "code",
   "execution_count": 8,
   "id": "7174a22b-6d09-42f1-8e3d-54f9137b5c69",
   "metadata": {},
   "outputs": [],
   "source": [
    "generated_ids = model.generate(**inputs, max_new_tokens=512)\n",
    "generated_ids_trimmed = [\n",
    "    out_ids[len(in_ids):] for in_ids, out_ids in zip(inputs.input_ids, generated_ids)\n",
    "]\n",
    "output_text = processor.batch_decode(\n",
    "    generated_ids_trimmed, skip_special_tokens=True, clean_up_tokenization_spaces=True\n",
    ")\n",
    "\n",
    "# Parse LLM response\n",
    "response = output_text[0].strip()\n",
    "diagnosis = response.split(\"Diagnosis: \")[1].split(\"\\n\")[0].strip() if \"Diagnosis: \" in response else \"Unknown\""
   ]
  },
  {
   "cell_type": "code",
   "execution_count": 9,
   "id": "6bde7a18-4d4d-4ec5-a543-d3e77e87e104",
   "metadata": {},
   "outputs": [
    {
     "name": "stdout",
     "output_type": "stream",
     "text": [
      "Instruction: Given a 12-lead ECG, determine the most likely diagnosis among the following categories:Normal ECG, Myocardial Infarction, ST/T Change, Conduction Disturbance, or Hypertrophy.Base your decision solely on the visual features of the provided ECG without performing additional analysis or introducing new criteria.\n",
      "\n",
      "Provide your answer in the following format:\n",
      "Diagnosis: <Selected Diagnosis>\n",
      "Reason: <Brief reason for the choice based on visual features>\n",
      "Generated Response: Diagnosis: ST/T Change\n",
      "Reason: The ECG shows ST segment elevation in leads V1-V6, which is indicative of acute myocardial infarction. However, the presence of ST segment elevation in the absence of Q waves suggests a diagnosis of ST elevation myocardial infarction (STEMI) rather than non-ST elevation myocardial infarction (NSTEMI). The T waves are also elevated, which is consistent with the ST/T change pattern.\n",
      "Extracted Conclusion: ST/T Change\n",
      "Ground Truth: Conduction Disturbance\n"
     ]
    }
   ],
   "source": [
    "print(\"Instruction:\", instruction)\n",
    "print(\"Generated Response:\", response)\n",
    "print(\"Extracted Conclusion:\", diagnosis)\n",
    "print(\"Ground Truth:\", CONDITIONS[gt])"
   ]
  },
  {
   "cell_type": "markdown",
   "id": "dbf83726-dd26-4039-9e38-451a77a063ad",
   "metadata": {},
   "source": [
    "# We can also see how LLM works with only ConMIL prediction set"
   ]
  },
  {
   "cell_type": "code",
   "execution_count": 10,
   "id": "e541e2ae-ecdf-43de-9b26-31cc71a1f20a",
   "metadata": {},
   "outputs": [],
   "source": [
    "# Create instruction\n",
    "instruction = (\n",
    "    f\"Given a 12-lead ECG, determine the most likely diagnosis among the following categories:\"\n",
    "    f\"{diagnosis_options}\"\n",
    "    f\"Base your decision solely on the visual features of the provided ECG without performing additional analysis or introducing new criteria.\\n\\n\"\n",
    "    f\"Provide your answer in the following format:\\n\"\n",
    "    f\"Diagnosis: <Selected Diagnosis>\\n\"\n",
    "    f\"Reason: <Brief reason for the choice based on visual features>\"\n",
    ")\n",
    "\n",
    "# Prepare messages for the processor\n",
    "messages = [\n",
    "    {\n",
    "        \"role\": \"user\",\n",
    "        \"content\": [\n",
    "            {\"type\": \"ECG Plot\", \"image\": org_image},\n",
    "            {\"type\": \"Instruction\", \"text\": instruction},\n",
    "        ],\n",
    "    }\n",
    "]\n",
    "\n",
    "# Process vision info and prepare inputs\n",
    "text = processor.apply_chat_template(messages, tokenize=False, add_generation_prompt=True)\n",
    "image_inputs, video_inputs = process_vision_info(messages)\n",
    "inputs = processor(\n",
    "    text=[text],\n",
    "    images=[image_inputs],\n",
    "    videos=video_inputs,\n",
    "    padding=True,\n",
    "    return_tensors=\"pt\",\n",
    ")\n",
    "inputs = inputs.to(\"cuda\")  # Move inputs to GPU if using CUDA"
   ]
  },
  {
   "cell_type": "code",
   "execution_count": 11,
   "id": "e51e7a01-018e-4848-9bf8-08f3e1e4f92f",
   "metadata": {},
   "outputs": [],
   "source": [
    "generated_ids = model.generate(**inputs, max_new_tokens=512)\n",
    "generated_ids_trimmed = [\n",
    "    out_ids[len(in_ids):] for in_ids, out_ids in zip(inputs.input_ids, generated_ids)\n",
    "]\n",
    "output_text = processor.batch_decode(\n",
    "    generated_ids_trimmed, skip_special_tokens=True, clean_up_tokenization_spaces=True\n",
    ")\n",
    "\n",
    "# Parse LLM response\n",
    "response = output_text[0].strip()\n",
    "diagnosis = response.split(\"Diagnosis: \")[1].split(\"\\n\")[0].strip() if \"Diagnosis: \" in response else \"Unknown\""
   ]
  },
  {
   "cell_type": "code",
   "execution_count": 12,
   "id": "7dd9637e-c5c3-46eb-b172-c8bf518f5ed2",
   "metadata": {},
   "outputs": [
    {
     "name": "stdout",
     "output_type": "stream",
     "text": [
      "Instruction: Given a 12-lead ECG, determine the most likely diagnosis among the following categories:Myocardial Infarction, Conduction DisturbanceBase your decision solely on the visual features of the provided ECG without performing additional analysis or introducing new criteria.\n",
      "\n",
      "Provide your answer in the following format:\n",
      "Diagnosis: <Selected Diagnosis>\n",
      "Reason: <Brief reason for the choice based on visual features>\n",
      "Generated Response: Diagnosis: Conduction Disturbance\n",
      "Reason: The ECG shows a regular rhythm with a consistent PR interval and QRS duration, which suggests a conduction disturbance rather than a myocardial infarction. The absence of ST segment or T wave abnormalities that are typically seen in myocardial infarction further supports this diagnosis.\n",
      "Extracted Conclusion: Conduction Disturbance\n",
      "Ground Truth: Conduction Disturbance\n"
     ]
    }
   ],
   "source": [
    "print(\"Instruction:\", instruction)\n",
    "print(\"Generated Response:\", response)\n",
    "print(\"Extracted Conclusion:\", diagnosis)\n",
    "print(\"Ground Truth:\", CONDITIONS[gt])"
   ]
  }
 ],
 "metadata": {
  "kernelspec": {
   "display_name": "Python 3 (ipykernel)",
   "language": "python",
   "name": "python3"
  },
  "language_info": {
   "codemirror_mode": {
    "name": "ipython",
    "version": 3
   },
   "file_extension": ".py",
   "mimetype": "text/x-python",
   "name": "python",
   "nbconvert_exporter": "python",
   "pygments_lexer": "ipython3",
   "version": "3.12.8"
  }
 },
 "nbformat": 4,
 "nbformat_minor": 5
}
